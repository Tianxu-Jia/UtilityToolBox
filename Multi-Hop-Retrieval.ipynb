{
 "cells": [
  {
   "cell_type": "code",
   "execution_count": null,
   "metadata": {},
   "outputs": [],
   "source": [
    "class Agent(dspy.Module):\n",
    "    def __init__(self, max_iters=50, verbose=False):\n",
    "        self.max_iters = max_iters\n",
    "        self.verbose = verbose\n",
    "        self.react = dspy.Predict(\"task, trajectory, possible_actions: list[str] -> action\")\n",
    "\n",
    "    def forward(self, idx):\n",
    "        with alfworld.POOL.session() as env:\n",
    "            trajectory = []\n",
    "            task, info = env.init(idx)\n",
    "            if self.verbose:\n",
    "                print(f\"Task: {task}\")\n",
    "\n",
    "            for _ in range(self.max_iters):\n",
    "                trajectory_ = \"\\n\".join(trajectory)\n",
    "                possible_actions = info[\"admissible_commands\"][0] + [\"think: ${...thoughts...}\"]\n",
    "                prediction = self.react(task=task, trajectory=trajectory_, possible_actions=possible_actions)\n",
    "                trajectory.append(f\"> {prediction.action}\")\n",
    "\n",
    "                if prediction.action.startswith(\"think:\"):\n",
    "                    trajectory.append(\"OK.\")\n",
    "                    continue\n",
    "\n",
    "                obs, reward, done, info = env.step(prediction.action)\n",
    "                obs, reward, done = obs[0], reward[0], done[0]\n",
    "                trajectory.append(obs)\n",
    "\n",
    "                if self.verbose:\n",
    "                    print(\"\\n\".join(trajectory[-2:]))\n",
    "\n",
    "                if done:\n",
    "                    break\n",
    "\n",
    "        assert reward == int(info[\"won\"][0]), (reward, info[\"won\"][0])\n",
    "        return dspy.Prediction(trajecotry=trajectory, success=reward)"
   ]
  }
 ],
 "metadata": {
  "kernelspec": {
   "display_name": "ai312",
   "language": "python",
   "name": "python3"
  },
  "language_info": {
   "name": "python",
   "version": "3.12.8"
  }
 },
 "nbformat": 4,
 "nbformat_minor": 2
}
