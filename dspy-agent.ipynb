{
 "cells": [
  {
   "cell_type": "code",
   "execution_count": 14,
   "metadata": {},
   "outputs": [],
   "source": [
    "import dspy\n",
    "\n",
    "llama3b = dspy.OllamaLocal(model='phi4:latest', temperature=0.7)\n",
    "gpt4o = dspy.OllamaLocal(model='deepseek-v2:latest', temperature=0.7)\n",
    "\n",
    "dspy.configure(lm=llama3b)"
   ]
  },
  {
   "cell_type": "code",
   "execution_count": 15,
   "metadata": {},
   "outputs": [],
   "source": [
    "import random\n",
    "from dspy.datasets import DataLoader\n",
    "\n",
    "kwargs = dict(fields=(\"claim\", \"supporting_facts\", \"hpqa_id\", \"num_hops\"), input_keys=(\"claim\",))\n",
    "hover = DataLoader().from_huggingface(dataset_name=\"hover-nlp/hover\", split=\"train\", trust_remote_code=True, **kwargs)\n",
    "\n",
    "hpqa_ids = set()\n",
    "hover = [\n",
    "    dspy.Example(claim=x.claim, titles=list(set([y[\"key\"] for y in x.supporting_facts]))).with_inputs(\"claim\")\n",
    "    for x in hover\n",
    "    if x[\"num_hops\"] == 3 and x[\"hpqa_id\"] not in hpqa_ids and not hpqa_ids.add(x[\"hpqa_id\"])\n",
    "]\n",
    "\n",
    "random.Random(0).shuffle(hover)\n",
    "trainset, devset, testset = hover[:100], hover[100:200], hover[650:]"
   ]
  },
  {
   "cell_type": "code",
   "execution_count": 16,
   "metadata": {},
   "outputs": [
    {
     "name": "stdout",
     "output_type": "stream",
     "text": [
      "Claim: This director is known for his work on Miss Potter. The Academy of Motion Picture Arts and Sciences presents the award in which he was nominated for his work in \"Babe\".\n",
      "Pages that must be retrieved: ['Miss Potter', 'Chris Noonan', 'Academy Award for Best Director']\n"
     ]
    }
   ],
   "source": [
    "example = trainset[0]\n",
    "\n",
    "print(\"Claim:\", example.claim)\n",
    "print(\"Pages that must be retrieved:\", example.titles)"
   ]
  },
  {
   "cell_type": "code",
   "execution_count": 17,
   "metadata": {},
   "outputs": [],
   "source": [
    "DOCS = {}\n",
    "\n",
    "def search(query: str, k: int) -> list[str]:\n",
    "    results = dspy.ColBERTv2(url='http://20.102.90.50:2017/wiki17_abstracts')(query, k=k)\n",
    "    results = [x['text'] for x in results]\n",
    "\n",
    "    for result in results:\n",
    "        title, text = result.split(\" | \", 1)\n",
    "        DOCS[title] = text\n",
    "\n",
    "    return results"
   ]
  },
  {
   "cell_type": "code",
   "execution_count": 18,
   "metadata": {},
   "outputs": [],
   "source": [
    "def search_wikipedia(query: str) -> list[str]:\n",
    "    \"\"\"Returns top-5 results and then the titles of the top-5 to top-30 results.\"\"\"\n",
    "\n",
    "    topK = search(query, 30)\n",
    "    titles, topK = [f\"`{x.split(' | ')[0]}`\" for x in topK[5:30]], topK[:5]\n",
    "    return topK + [f\"Other retrieved pages have titles: {', '.join(titles)}.\"]\n",
    "\n",
    "def lookup_wikipedia(title: str) -> str:\n",
    "    \"\"\"Returns the text of the Wikipedia page, if it exists.\"\"\"\n",
    "\n",
    "    if title in DOCS:\n",
    "        return DOCS[title]\n",
    "\n",
    "    results = [x for x in search(title, 10) if x.startswith(title + \" | \")]\n",
    "    if not results:\n",
    "        return f\"No Wikipedia page found for title: {title}\"\n",
    "    return results[0]"
   ]
  },
  {
   "cell_type": "code",
   "execution_count": 19,
   "metadata": {},
   "outputs": [],
   "source": [
    "instructions = \"Find all Wikipedia titles relevant to verifying (or refuting) the claim.\"\n",
    "signature = dspy.Signature(\"claim -> titles: list[str]\", instructions)\n",
    "react = dspy.ReAct(signature, tools=[search_wikipedia, lookup_wikipedia], max_iters=20)"
   ]
  },
  {
   "cell_type": "code",
   "execution_count": 20,
   "metadata": {},
   "outputs": [
    {
     "data": {
      "text/plain": [
       "Prediction(\n",
       "    trajectory={'thought_0': 'Claim: David Gregory was born in 1625.\\n\\nTrajectory:\\n\\n1. **Next Thought:** To verify the claim about David Gregory\\'s birth year, I need to find reliable sources that mention his birth date or provide a biography. Wikipedia is a good starting point for historical figures like him.\\n\\n2. **Next Tool Name:** search_wikipedia\\n\\n3. **Next Tool Args:**\\n\\n```json\\n{\"query\": \"David Gregory\"}\\n```\\n\\n---\\n\\n**Observation:** The top-5 results from the Wikipedia search might include titles such as \"David Gregory (mathematician),\" along with other related entries. These will help determine if there\\'s a specific page dedicated to David Gregory that mentions his birth year.\\n\\n4. **Next Thought:** I\\'ll', 'tool_name_0': '', 'tool_args_0': 'Claim: David Gregory was born in 1625.\\n\\nTrajectory:\\n\\n1. **Next Thought:** To verify the claim about David Gregory\\'s birth year, I need to find reliable sources that mention his birth date or provide a biography. Wikipedia is a good starting point for historical figures like him.\\n2. **Next Tool Name:** search_wikipedia\\n3. **Next Tool Args:** \\n   ```json\\n   {\"query\": \"David Gregory\"}\\n   ```\\n\\n---\\n\\n**Observation:** The top-5 results from the Wikipedia search might include titles such as \"David Gregory (mathematician),\" along with other related entries. These will help determine if there\\'s a specific page dedicated to David Gregory that mentions his birth year.\\n\\n4. **Next Thought', 'observation_0': \"Failed to execute: ''\", 'thought_1': 'Claim: David Gregory was born in 1625.\\n\\nTrajectory:\\n1. **Next Thought:** To verify the claim about David Gregory\\'s birth year, I need to find reliable sources that mention his birth date or provide a biography. Wikipedia is a good starting point for historical figures like him.\\n2. **Next Tool Name:** search_wikipedia\\n3. **Next Tool Args:** \\n   ```json\\n   {\"query\": \"David Gregory\"}\\n   ```\\n   \\n--- \\n\\n**Observation:** The top-5 results from the Wikipedia search might include titles such as \"David Gregory (mathematician),\" along with other related entries. These will help determine if there\\'s a specific page dedicated to David Gregory that mentions his birth year.\\n\\n4. **Next', 'tool_name_1': '', 'tool_args_1': 'Claim: David Gregory was born in 1625.\\n\\nTrajectory: \\n1. **Next Thought:** To verify the claim about David Gregory\\'s birth year, I need to find reliable sources that mention his birth date or provide a biography. Wikipedia is a good starting point for historical figures like him.\\n2. **Next Tool Name:** search_wikipedia\\n3. **Next Tool Args:** ```json {\"query\": \"David Gregory\"} ```\\n\\n---\\n\\n**Observation:** The top-5 results from the Wikipedia search might include titles such as \"David Gregory (mathematician),\" along with other related entries. These will help determine if there\\'s a specific page dedicated to David Gregory that mentions his birth year.\\n\\n4. **Next Thought:** I\\'ll use', 'observation_1': \"Failed to execute: ''\", 'thought_2': 'Claim: David Gregory was born in 1625.\\n\\nTrajectory: [[## thought_0 ##]] Claim: David Gregory was born in 1625. Trajectory: 1. **Next Thought:** To verify the claim about David Gregory\\'s birth year, I need to find reliable sources that mention his birth date or provide a biography. Wikipedia is a good starting point for historical figures like him. 2. **Next Tool Name:** search_wikipedia 3. **Next Tool Args:** `{\"query\": \"David Gregory\"}` --- **Observation:** The top-5 results from the Wikipedia search might include titles such as \"David Gregory (mathematician),\" along with other related entries. These will help determine if there\\'s a specific', 'tool_name_2': '', 'tool_args_2': 'Claim: David Gregory was born in 1625.\\n\\nTrajectory:\\n1. **Next Thought:** To verify the claim about David Gregory\\'s birth year, I need to find reliable sources that mention his birth date or provide a biography. Wikipedia is a good starting point for historical figures like him.\\n2. **Next Tool Name:** search_wikipedia\\n3. **Next Tool Args:** `{\"query\": \"David Gregory\"}`\\n\\n**Observation:** The top-5 results from the Wikipedia search might include titles such as \"David Gregory (mathematician),\" along with other related entries. These will help determine if there\\'s a specific page dedicated to David Gregory that mentions his birth year.\\n\\nNext Thought: I\\'ll use the information from the search results', 'observation_2': \"Failed to execute: ''\", 'thought_3': \"To verify the claim about David Gregory's birth year, we need reliable historical sources. Since Wikipedia isn't available at this moment, let's consider alternative steps:\\n\\n1. **Historical Context**: Understand that David Gregory was a Scottish mathematician and astronomer known for his work in the 17th century.\\n\\n2. **Alternative Sources**:\\n   - **Library Databases**: Access online databases like JSTOR or Project MUSE which might have historical texts or papers about David Gregory.\\n   - **Books on Mathematics History**: Look for books that cover the history of mathematics or biographies of mathematicians from the 17th century.\\n   - **Scholarly Articles**: Search through academic journals focused on history of science or mathematics.\\n\\n3. **\", 'tool_name_3': '', 'tool_args_3': \"To verify the claim about David Gregory's birth year, we can follow these steps using alternative sources:\\n\\n1. **Historical Context**:\\n   - Recognize that David Gregory was a prominent Scottish mathematician and astronomer in the 17th century.\\n\\n2. **Alternative Sources**:\\n   - **Library Databases**: Use online databases such as JSTOR or Project MUSE to find historical texts, papers, or articles about David Gregory.\\n   - **Books on Mathematics History**: Search for books that discuss the history of mathematics or biographies of mathematicians from the 17th century. Libraries or bookstores might have relevant titles.\\n   - **Scholarly Articles**: Look through academic journals focused on the history of science or mathematics, which\", 'observation_3': \"Failed to execute: ''\", 'thought_4': \"To verify the claim about David Gregory's birth year, we can take a structured approach using historical and alternative sources:\\n\\n### Steps to Verify David Gregory's Birth Year\\n\\n1. **Understand Historical Context**:\\n   - Recognize that David Gregory was an influential Scottish mathematician and astronomer during the 17th century.\\n\\n2. **Identify Alternative Sources**:\\n   Since Wikipedia is not currently accessible, consider these resources for reliable information:\\n\\n   - **Library Databases**: \\n     - Access databases like JSTOR or Project MUSE to find scholarly articles, historical texts, or specific papers on David Gregory.\\n   \\n   - **Books on Mathematics History**:\\n     - Look for books that cover the history of mathematics or biographies focusing on mathematic\", 'tool_name_4': '', 'tool_args_4': \"To verify the claim about David Gregory's birth year without relying on Wikipedia, we can follow a structured approach using alternative sources:\\n\\n### Steps to Verify David Gregory's Birth Year\\n\\n1. **Understand Historical Context**:\\n   - Recognize that David Gregory was an influential Scottish mathematician and astronomer during the 17th century.\\n\\n2. **Identify Alternative Sources**:\\n   Since Wikipedia is not currently accessible, consider these resources for reliable information:\\n\\n   - **Library Databases**: \\n     - Access databases like JSTOR or Project MUSE to find scholarly articles, historical texts, or specific papers on David Gregory.\\n   \\n   - **Books on Mathematics History**:\\n     - Look for books that cover the history of mathematics or biographies focusing\", 'observation_4': \"Failed to execute: ''\", 'thought_5': \"To verify the claim about David Gregory's birth year without relying on Wikipedia, let's follow a structured approach using alternative sources:\\n\\n### Steps to Verify David Gregory's Birth Year\\n\\n1. **Understand Historical Context**:\\n   - Recognize that David Gregory was an influential Scottish mathematician and astronomer in the 17th century.\\n   - Familiarize yourself with key historical events of his time, which might influence academic records or publications.\\n\\n2. **Identify Alternative Sources**:\\n\\n   - **Library Databases**:\\n     - Access databases like JSTOR, Project MUSE, or Google Scholar to find scholarly articles and historical texts that mention David Gregory.\\n     - Search for specific papers related to his life, works, and contributions to mathematics\", 'tool_name_5': '', 'tool_args_5': \"To verify the claim about David Gregory's birth year without relying on Wikipedia, let's follow a structured approach using alternative sources:\\n\\n### Steps to Verify David Gregory's Birth Year\\n\\n1. **Understand Historical Context**:\\n   - Recognize that David Gregory was an influential Scottish mathematician and astronomer in the 17th century.\\n   - Familiarize yourself with key historical events of his time, which might influence academic records or publications.\\n\\n2. **Identify Alternative Sources**:\\n   - **Library Databases**: \\n     - Access databases like JSTOR, Project MUSE, or Google Scholar to find scholarly articles and historical texts that mention David Gregory.\\n     - Search for specific papers related to his life, works, and contributions to mathematics\", 'observation_5': \"Failed to execute: ''\", 'thought_6': \"To verify the claim about David Gregory's birth year without relying on Wikipedia, we can employ a structured approach using alternative sources:\\n\\n### Steps to Verify David Gregory's Birth Year\\n\\n1. **Understand Historical Context**:\\n   - Recognize that David Gregory was an influential Scottish mathematician and astronomer in the 17th century.\\n   - Familiarize yourself with key historical events of his time, which might influence academic records or publications.\\n\\n2. **Identify Alternative Sources**:\\n   - **Library Databases**: Access databases like JSTOR, Project MUSE, or Google Scholar to find scholarly articles and historical texts that mention David Gregory. These platforms often include peer-reviewed papers and reliable historical accounts.\\n   - **Academic Books**: Look\", 'tool_name_6': '', 'tool_args_6': \"To verify the claim about David Gregory's birth year without relying on Wikipedia, we can employ a structured approach using alternative sources:\\n\\n### Steps to Verify David Gregory's Birth Year\\n\\n1. **Understand Historical Context**:\\n   - Recognize that David Gregory was an influential Scottish mathematician and astronomer in the 17th century.\\n   - Familiarize yourself with key historical events of his time, which might influence academic records or publications.\\n\\n2. **Identify Alternative Sources**:\\n\\n   - **Library Databases**: Access databases like JSTOR, Project MUSE, or Google Scholar to find scholarly articles and historical texts that mention David Gregory. These platforms often include peer-reviewed papers and reliable historical accounts.\\n   \\n   - **Academic Books**:\", 'observation_6': \"Failed to execute: ''\", 'thought_7': \"To verify the birth year of David Gregory effectively using alternative sources, a structured approach is necessary:\\n\\n### Steps to Verify David Gregory's Birth Year\\n\\n1. **Understand Historical Context**:\\n   - Recognize that David Gregory was an influential Scottish mathematician and astronomer during the 17th century.\\n   - This places his lifetime approximately between 1645 (the beginning of the 17th century) and 1700 (the end of the 17th century).\\n\\n2. **Identify Alternative Sources**:\\n\\n   - **Library Databases**: \\n     - Access scholarly databases such as JSTOR, Project MUSE, or Google Scholar to find peer-reviewed articles and historical texts that mention David Gregory.\\n     - Search for specific papers discussing\", 'tool_name_7': '', 'tool_args_7': \"To verify the birth year of David Gregory effectively using alternative sources, a structured approach is necessary:\\n\\n### Steps to Verify David Gregory's Birth Year\\n\\n1. **Understand Historical Context**:\\n   - Recognize that David Gregory was an influential Scottish mathematician and astronomer during the 17th century.\\n   - This places his lifetime approximately between 1645 (the beginning of the 17th century) and 1700 (the end of the 17th century).\\n\\n2. **Identify Alternative Sources**:\\n   - **Library Databases**: Access scholarly databases such as JSTOR, Project MUSE, or Google Scholar to find peer-reviewed articles and historical texts that mention David Gregory.\\n     - Search for specific papers discussing his biography,\", 'observation_7': \"Failed to execute: ''\", 'thought_8': \"To verify the birth year of David Gregory using alternative sources, we need a methodical approach:\\n\\n### Steps to Verify David Gregory's Birth Year\\n\\n1. **Understand Historical Context**:\\n   - Recognize that David Gregory was an influential Scottish mathematician and astronomer in the 17th century.\\n   - His lifetime is approximately between 1645 and 1700.\\n\\n2. **Identify Primary Sources**:\\n   - Look for original documents or publications from or about his era, such as letters, diaries, or early biographies by contemporaries.\\n   - University archives or historical societies in Scotland might possess relevant materials.\\n\\n3. **Consult Secondary Sources**:\\n   - **Library Databases**: Use scholarly databases like JSTOR,\", 'tool_name_8': '', 'tool_args_8': \"To verify the birth year of David Gregory using alternative sources, we need a methodical approach:\\n\\n### Steps to Verify David Gregory's Birth Year\\n\\n1. **Understand Historical Context**:\\n   - Recognize that David Gregory was an influential Scottish mathematician and astronomer in the 17th century.\\n   - His lifetime is approximately between 1645 and 1700.\\n\\n2. **Identify Primary Sources**:\\n   - Look for original documents or publications from or about his era, such as letters, diaries, or early biographies by contemporaries.\\n   - University archives or historical societies in Scotland might possess relevant materials.\\n\\n3. **Consult Secondary Sources**:\\n   - **Library Databases**: Use scholarly databases like JSTOR,\", 'observation_8': \"Failed to execute: ''\", 'thought_9': \"To systematically verify the birth year of David Gregory using alternative sources, here's a structured approach:\\n\\n### Steps to Verify David Gregory's Birth Year\\n\\n1. **Understand Historical Context**:\\n   - Recognize that David Gregory was an influential Scottish mathematician and astronomer during the 17th century.\\n   - His lifetime is approximately between 1645 and 1700.\\n\\n2. **Identify Primary Sources**:\\n   - Search for original documents from or about his era, such as letters, diaries, or early biographies by contemporaries.\\n   - Explore archives at universities or historical societies in Scotland which might hold relevant materials.\\n\\n3. **Consult Secondary Sources**:\\n   - Use scholarly databases like JSTOR, Project MUSE,\", 'tool_name_9': '', 'tool_args_9': \"To systematically verify the birth year of David Gregory using alternative sources, here's a structured approach:\\n\\n### Steps to Verify David Gregory's Birth Year\\n\\n1. **Understand Historical Context**:\\n   - Recognize that David Gregory was an influential Scottish mathematician and astronomer during the 17th century.\\n   - His lifetime is approximately between 1645 and 1700.\\n\\n2. **Identify Primary Sources**:\\n   - Search for original documents from or about his era, such as letters, diaries, or early biographies by contemporaries.\\n   - Explore archives at universities or historical societies in Scotland which might hold relevant materials.\\n\\n3. **Consult Secondary Sources**:\\n   - Use scholarly databases like JSTOR, Project MUSE,\", 'observation_9': \"Failed to execute: ''\", 'thought_10': \"To verify the birth year of David Gregory using alternative sources, I'll take a structured approach:\\n\\n### Steps to Verify David Gregory's Birth Year\\n\\n1. **Understand Historical Context**:\\n   - David Gregory was an influential Scottish mathematician and astronomer during the 17th century.\\n   - His lifetime is approximately estimated between 1645 and 1700.\\n\\n2. **Identify Primary Sources**:\\n   - Search for original documents from or about his era, such as letters, diaries, or early biographies by contemporaries who might have mentioned Gregory's birth year.\\n   - Explore archives at universities or historical societies in Scotland that might hold relevant materials like personal correspondences or manuscripts.\\n\\n3. **Consult Secondary Sources**:\\n   -\", 'tool_name_10': '', 'tool_args_10': \"To verify the birth year of David Gregory using alternative sources, I'll take a structured approach:\\n\\n### Steps to Verify David Gregory's Birth Year\\n\\n1. **Understand Historical Context**:\\n   - Recognize that David Gregory was an influential Scottish mathematician and astronomer during the 17th century.\\n   - His lifetime is approximately estimated between 1645 and 1700.\\n\\n2. **Identify Primary Sources**:\\n   - Search for original documents from or about his era, such as letters, diaries, or early biographies by contemporaries who might have mentioned Gregory's birth year.\\n   - Explore archives at universities or historical societies in Scotland that might hold relevant materials like personal correspondences or manuscripts.\\n\\n3. **Consult Secondary Sources**\", 'observation_10': \"Failed to execute: ''\", 'thought_11': \"To verify the birth year of David Gregory, I'll systematically explore primary and secondary sources as outlined below:\\n\\n### Current Plan\\n\\n1. **Understand Historical Context**\\n   - Confirm that David Gregory was indeed an influential Scottish mathematician and astronomer active during the 17th century.\\n   - Note his estimated lifetime from approximately 1645 to 1700.\\n\\n2. **Identify Primary Sources**\\n   - Search for original documents from or about his era, including:\\n     - Letters and diaries that might mention Gregory's birth year.\\n     - Early biographies written by contemporaries who documented his life.\\n   - Explore archives at universities or historical societies in Scotland for personal correspondences or manuscripts relevant to Gregory.\\n\\n3. **Consult Secondary Sources**\", 'tool_name_11': '', 'tool_args_11': \"To verify the birth year of David Gregory, I'll systematically explore primary and secondary sources as outlined below:\\n\\n### Current Plan\\n\\n1. **Understand Historical Context**\\n   - Confirm that David Gregory was indeed an influential Scottish mathematician and astronomer active during the 17th century.\\n   - Note his estimated lifetime from approximately 1645 to 1700.\\n\\n2. **Identify Primary Sources**\\n   - Search for original documents from or about his era, including:\\n     - Letters and diaries that might mention Gregory's birth year.\\n     - Early biographies written by contemporaries who documented his life.\\n   - Explore archives at universities or historical societies in Scotland for personal correspondences or manuscripts relevant to Gregory.\\n\\n3. **Consult Secondary Sources**\", 'observation_11': \"Failed to execute: ''\", 'thought_12': \"To verify the birth year of David Gregory, I will proceed by utilizing a structured approach that combines understanding his historical context with thorough research into available primary and secondary sources.\\n\\n### Next Steps:\\n\\n1. **Understand Historical Context**: \\n    - Confirm that David Gregory was an influential mathematician and astronomer in 17th-century Scotland.\\n    - Acknowledge the estimated timeframe of his lifetime from approximately 1645 to 1708, as commonly referenced in historical records.\\n\\n2. **Identify Primary Sources**:\\n    - Search for primary documents such as letters, diaries, or early biographies that might explicitly mention Gregory's birth year. These are valuable because they provide firsthand accounts.\\n    - Explore archives at institutions like the University of Edinburgh, which\", 'tool_name_12': '', 'tool_args_12': \"To verify the birth year of David Gregory, I will proceed by utilizing a structured approach that combines understanding his historical context with thorough research into available primary and secondary sources.\\n\\n### Next Steps:\\n\\n1. **Understand Historical Context**:\\n   - Confirm that David Gregory was an influential mathematician and astronomer in 17th-century Scotland.\\n   - Acknowledge the estimated timeframe of his lifetime from approximately 1645 to 1708, as commonly referenced in historical records.\\n\\n2. **Identify Primary Sources**:\\n   - Search for primary documents such as letters, diaries, or early biographies that might explicitly mention Gregory's birth year. These are valuable because they provide firsthand accounts.\\n   - Explore archives at institutions like the University of Edinburgh and other\", 'observation_12': \"Failed to execute: ''\", 'thought_13': \"To verify David Gregory's birth year, I will proceed with a structured approach that involves understanding his historical context and conducting thorough research into available primary and secondary sources.\\n\\n1. **Understand Historical Context**: \\n   - David Gregory was an influential mathematician and astronomer in 17th-century Scotland.\\n   - His estimated lifetime is from approximately 1645 to 1708, according to commonly referenced historical records.\\n\\n2. **Identify Primary Sources**:\\n   - Search for primary documents such as letters, diaries, or early biographies that might explicitly mention Gregory's birth year. These sources provide firsthand accounts and are valuable for verifying dates.\\n   - Explore archives at institutions like the University of Edinburgh and other relevant Scottish universities or historical societies that may\", 'tool_name_13': '', 'tool_args_13': \"To verify David Gregory's birth year, I will proceed with a structured approach involving understanding his historical context and conducting thorough research into available primary and secondary sources.\\n\\n### Next Steps:\\n\\n1. **Understand Historical Context**:\\n   - Confirm that David Gregory was an influential mathematician and astronomer in 17th-century Scotland.\\n   - Acknowledge the estimated timeframe of his lifetime from approximately 1645 to 1708, as commonly referenced in historical records.\\n\\n2. **Identify Primary Sources**:\\n   - Search for primary documents such as letters, diaries, or early biographies that might explicitly mention Gregory's birth year. These sources provide firsthand accounts and are valuable for verifying dates.\\n   - Explore archives at institutions like the University of Edinburgh and\", 'observation_13': \"Failed to execute: ''\", 'thought_14': \"To verify David Gregory's birth year, I will proceed with a structured approach that includes understanding his historical context and conducting thorough research into primary and secondary sources.\\n\\n### Current Plan\\n\\n1. **Understand Historical Context**:\\n   - Confirm that David Gregory was an influential mathematician and astronomer in 17th-century Scotland.\\n   - Acknowledge the commonly referenced estimated timeframe of his lifetime as approximately 1645 to 1708.\\n\\n2. **Identify Primary Sources**:\\n   - Search for primary documents such as letters, diaries, or early biographies that might explicitly mention Gregory's birth year. These sources offer firsthand accounts and are valuable for verifying dates.\\n   - Explore archives at institutions like the University of Edinburgh and other relevant Scottish universities or\", 'tool_name_14': '', 'tool_args_14': \"To verify David Gregory's birth year, I will proceed with a structured approach involving understanding his historical context and conducting thorough research into primary and secondary sources.\\n\\n### Current Plan:\\n\\n1. **Understand Historical Context**:\\n   - Confirm that David Gregory was an influential mathematician and astronomer in 17th-century Scotland.\\n   - Acknowledge the commonly referenced estimated timeframe of his lifetime as approximately 1645 to 1708.\\n\\n2. **Identify Primary Sources**:\\n   - Search for primary documents such as letters, diaries, or early biographies that might explicitly mention Gregory's birth year. These sources offer firsthand accounts and are valuable for verifying dates.\\n   - Explore archives at institutions like the University of Edinburgh and other relevant Scottish universities or historical\", 'observation_14': \"Failed to execute: ''\", 'thought_15': \"To effectively determine David Gregory's exact birth date, it is important to synthesize both historical context and available resources. Here’s a refined plan:\\n\\n1. **Understand Historical Context**:\\n   - Ensure knowledge about David Gregory's significance as a mathematician and astronomer in the 17th century.\\n   - Recognize that he was born around 1659-1660, based on commonly accepted estimates.\\n\\n2. **Identify Primary Sources**:\\n   - Investigate archives at key institutions like the University of Edinburgh for letters, diaries, or early biographies that might explicitly mention his birth date.\\n   - Consider other Scottish universities with historical records from that era, such as the Universities of Glasgow and St Andrews.\\n\\n3. **Research Secondary\", 'tool_name_15': '', 'tool_args_15': \"To effectively determine David Gregory's exact birth date, it is important to synthesize both historical context and available resources. Here’s a refined plan:\\n\\n1. **Understand Historical Context**:\\n   - Recognize David Gregory as an influential mathematician and astronomer in the 17th century.\\n   - Note that his commonly accepted birth year is around 1659-1660.\\n\\n2. **Identify Primary Sources**:\\n   - Investigate archives at key institutions like the University of Edinburgh for letters, diaries, or early biographies that might explicitly mention his birth date.\\n   - Explore other Scottish universities with historical records from that era, such as the Universities of Glasgow and St Andrews.\\n\\n3. **Research Secondary Sources**:\\n   - Consult\", 'observation_15': \"Failed to execute: ''\", 'thought_16': \"To effectively determine David Gregory's exact birth date, a structured approach combining historical context and research across both primary and secondary sources is essential.\\n\\n### Current Plan:\\n\\n1. **Understand Historical Context**:\\n   - Recognize David Gregory as an influential mathematician and astronomer of the 17th century.\\n   - Acknowledge that his commonly accepted birth year is around 1659-1660, based on historical estimates from credible biographical sources.\\n\\n2. **Identify Primary Sources**:\\n   - Investigate archives at key institutions such as the University of Edinburgh for original documents like letters, diaries, or early biographies that might explicitly mention his birth date.\\n   - Explore other Scottish universities with relevant historical records from that era, such as the\", 'tool_name_16': '', 'tool_args_16': \"To effectively determine David Gregory's exact birth date, a structured approach combining historical context and research across both primary and secondary sources is essential.\\n\\n### Current Plan:\\n\\n1. **Understand Historical Context**:\\n   - Recognize David Gregory as an influential mathematician and astronomer of the 17th century.\\n   - Acknowledge that his commonly accepted birth year is around 1659-1660, based on historical estimates from credible biographical sources.\\n\\n2. **Identify Primary Sources**:\\n   - Investigate archives at key institutions such as the University of Edinburgh for original documents like letters, diaries, or early biographies that might explicitly mention his birth date.\\n   - Explore other Scottish universities with relevant historical records from that era, such as the\", 'observation_16': \"Failed to execute: ''\", 'thought_17': \"To effectively determine David Gregory's exact birth date, a structured and comprehensive approach is essential. Here’s an organized plan:\\n\\n### 1. Understand Historical Context\\n\\n- **Recognize Significance**: Acknowledge David Gregory as a prominent mathematician and astronomer of the 17th century.\\n- **Establish Commonly Accepted Date**: Note that his commonly accepted birth year is around 1659–1660, based on historical estimates from credible biographical sources.\\n\\n### 2. Identify Primary Sources\\n\\n- **University Archives**:\\n  - Investigate archives at institutions like the University of Edinburgh for original documents such as letters, diaries, or early biographies that might explicitly mention his birth date.\\n  \\n- **Other Scottish Universities**: \\n  - Explore\", 'tool_name_17': '', 'tool_args_17': \"To effectively determine David Gregory's exact birth date, a structured and comprehensive approach is essential. Here’s an organized plan:\\n\\n### 1. Understand Historical Context\\n- **Recognize Significance**: Acknowledge David Gregory as a prominent mathematician and astronomer of the 17th century.\\n- **Establish Commonly Accepted Date**: Note that his commonly accepted birth year is around 1659–1660, based on historical estimates from credible biographical sources.\\n\\n### 2. Identify Primary Sources\\n- **University Archives**:\\n  - Investigate archives at institutions like the University of Edinburgh for original documents such as letters, diaries, or early biographies that might explicitly mention his birth date.\\n  \\n- **Other Scottish Universities**:\\n  - Explore\", 'observation_17': \"Failed to execute: ''\", 'thought_18': \"To effectively determine David Gregory's exact birth date, it is essential to follow a structured and comprehensive approach:\\n\\n### 1. Understand Historical Context\\n\\n- **Recognize Significance**: Acknowledge David Gregory as a prominent mathematician and astronomer of the 17th century who made significant contributions to mathematics.\\n  \\n- **Establish Commonly Accepted Date**: Note that his commonly accepted birth year is around 1659–1660, based on historical estimates from credible biographical sources. This provides a starting point for further investigation.\\n\\n### 2. Identify Primary Sources\\n\\n- **University Archives**:\\n  - Investigate the archives at institutions like the University of Edinburgh. Search for original documents such as letters, diaries, or early biographies that might explicitly\", 'tool_name_18': '', 'tool_args_18': \"To effectively determine David Gregory's exact birth date, a structured and comprehensive approach is necessary:\\n\\n### 1. Understand Historical Context\\n- **Recognize Significance**: Acknowledge David Gregory as a prominent mathematician and astronomer of the 17th century who made significant contributions to mathematics.\\n- **Establish Commonly Accepted Date**: Note that his commonly accepted birth year is around 1659–1660, based on historical estimates from credible biographical sources. This provides a starting point for further investigation.\\n\\n### 2. Identify Primary Sources\\n- **University Archives**:\\n  - Investigate the archives at institutions like the University of Edinburgh. Search for original documents such as letters, diaries, or early biographies that might explicitly mention his birth date\", 'observation_18': \"Failed to execute: ''\", 'thought_19': \"To effectively determine David Gregory's exact birth date, a structured and comprehensive approach is necessary:\\n\\n### 1. Understand Historical Context\\n\\n- **Recognize Significance**: Acknowledge David Gregory as a prominent mathematician and astronomer of the 17th century known for his contributions to mathematics.\\n  \\n- **Establish Commonly Accepted Date**: Note that his commonly accepted birth year is around 1659–1660, based on historical estimates from credible biographical sources. This provides a starting point for further investigation.\\n\\n### 2. Identify Primary Sources\\n\\n- **University Archives**:\\n  - Investigate archives at institutions like the University of Edinburgh and other Scottish universities he might have been associated with.\\n  - Search for original documents such as letters, diaries\", 'tool_name_19': '', 'tool_args_19': \"To effectively determine David Gregory's exact birth date, a structured and comprehensive approach is necessary:\\n\\n### 1. Understand Historical Context\\n- **Recognize Significance**: Acknowledge David Gregory as a prominent mathematician and astronomer of the 17th century known for his contributions to mathematics.\\n- **Establish Commonly Accepted Date**: Note that his commonly accepted birth year is around 1659–1660, based on historical estimates from credible biographical sources. This provides a starting point for further investigation.\\n\\n### 2. Identify Primary Sources\\n- **University Archives**:\\n  - Investigate archives at institutions like the University of Edinburgh and other Scottish universities he might have been associated with.\\n  - Search for original documents such as letters, diaries,\", 'observation_19': \"Failed to execute: ''\"},\n",
       "    rationale=\"To effectively determine David Gregory's exact birth date using a structured and comprehensive approach, we can break down the process into several steps:\\n\\n### Step 1: Understand Historical Context\\n\\n1. **Recognize Significance**: Acknowledge that David Gregory was an influential mathematician and astronomer in the 17th century. He played a significant role at the University of Edinburgh and other academic institutions.\\n\\n2. **Establish Commonly Accepted Date**: Note that historical records commonly suggest his birth year is around 1659–1660. This information provides a baseline for further investigation, guiding where to look for more precise details.\\n\\n### Step 2: Identify Primary Sources\\n\\n1. **University Archives**:\\n   - Investigate archives at institutions such as the University of\",\n",
       "    titles=\"To effectively determine David Gregory's exact birth date using a structured and comprehensive approach, we can break down the process into several steps:\\n\\n### Step 1: Understand Historical Context\\n\\n1. **Recognize Significance**:\\n   - Acknowledge that David Gregory was an influential mathematician and astronomer in the 17th century.\\n   - He played significant roles at institutions like the University of Edinburgh.\\n\\n2. **Establish Commonly Accepted Date**:\\n   - Note that historical records commonly suggest his birth year is around 1659–1660.\\n   - This information provides a baseline for further investigation, guiding where to look for more precise details.\\n\\n### Step 2: Identify Primary Sources\\n\\n1. **University Archives**:\\n   - Investigate archives\"\n",
       ")"
      ]
     },
     "execution_count": 20,
     "metadata": {},
     "output_type": "execute_result"
    }
   ],
   "source": [
    "react(claim=\"David Gregory was born in 1625.\")"
   ]
  },
  {
   "cell_type": "code",
   "execution_count": 21,
   "metadata": {},
   "outputs": [],
   "source": [
    "def top5_recall(example, pred, trace=None):\n",
    "    gold_titles = example.titles\n",
    "    recall = sum(x in pred.titles[:5] for x in gold_titles) / len(gold_titles)\n",
    "\n",
    "    # If we're \"bootstrapping\" for optimization, return True if and only if the recall is perfect.\n",
    "    if trace is not None:\n",
    "        return recall >= 1.0\n",
    "    \n",
    "    # If we're just doing inference, just measure the recall.\n",
    "    return recall\n",
    "\n",
    "evaluate = dspy.Evaluate(devset=devset, metric=top5_recall, num_threads=16, display_progress=True, display_table=5)"
   ]
  },
  {
   "cell_type": "code",
   "execution_count": 24,
   "metadata": {},
   "outputs": [
    {
     "name": "stdout",
     "output_type": "stream",
     "text": [
      "Average Metric: 0.00 / 100 (0.0%): 100%|██████████| 100/100 [15:21<00:00,  9.22s/it]"
     ]
    },
    {
     "name": "stderr",
     "output_type": "stream",
     "text": [
      "2025/01/18 19:11:31 INFO dspy.evaluate.evaluate: Average Metric: 0.0 / 100 (0.0%)\n"
     ]
    },
    {
     "name": "stdout",
     "output_type": "stream",
     "text": [
      "\n"
     ]
    },
    {
     "data": {
      "text/html": [
       "<div>\n",
       "<style scoped>\n",
       "    .dataframe tbody tr th:only-of-type {\n",
       "        vertical-align: middle;\n",
       "    }\n",
       "\n",
       "    .dataframe tbody tr th {\n",
       "        vertical-align: top;\n",
       "    }\n",
       "\n",
       "    .dataframe thead th {\n",
       "        text-align: right;\n",
       "    }\n",
       "</style>\n",
       "<table border=\"1\" class=\"dataframe\">\n",
       "  <thead>\n",
       "    <tr style=\"text-align: right;\">\n",
       "      <th></th>\n",
       "      <th>claim</th>\n",
       "      <th>example_titles</th>\n",
       "      <th>pred_titles</th>\n",
       "      <th>top5_recall</th>\n",
       "    </tr>\n",
       "  </thead>\n",
       "  <tbody>\n",
       "    <tr>\n",
       "      <th>0</th>\n",
       "      <td>The Church of England's movement that inspired the Trinity Episcop...</td>\n",
       "      <td>[Samuel Rickards, Oxford Movement, Trinity Episcopal Church (Hough...</td>\n",
       "      <td>[]</td>\n",
       "      <td></td>\n",
       "    </tr>\n",
       "    <tr>\n",
       "      <th>1</th>\n",
       "      <td>Red, White &amp; Crüe and this athlete both fight. The french fighter ...</td>\n",
       "      <td>[Bobby Stewart, Red, White &amp;amp; Crüe, Mike Tyson]</td>\n",
       "      <td>[]</td>\n",
       "      <td></td>\n",
       "    </tr>\n",
       "    <tr>\n",
       "      <th>2</th>\n",
       "      <td>The writer/director/actor from Glen or Glenda and Fernand Rivers s...</td>\n",
       "      <td>[Ed Wood, Glen or Glenda, Fernand Rivers]</td>\n",
       "      <td>[]</td>\n",
       "      <td></td>\n",
       "    </tr>\n",
       "    <tr>\n",
       "      <th>3</th>\n",
       "      <td>The film by Sandi Sissel was released before The End of Suburbia.</td>\n",
       "      <td>[Chicken Ranch (film), Sandi Sissel, The End of Suburbia]</td>\n",
       "      <td>[]</td>\n",
       "      <td></td>\n",
       "    </tr>\n",
       "    <tr>\n",
       "      <th>4</th>\n",
       "      <td>The actor who played captain hook in the live production with Tayl...</td>\n",
       "      <td>[Peter Pan Live!, Taylor Louderman, Christopher Walken]</td>\n",
       "      <td>[]</td>\n",
       "      <td></td>\n",
       "    </tr>\n",
       "  </tbody>\n",
       "</table>\n",
       "</div>"
      ],
      "text/plain": [
       "                                                                   claim  \\\n",
       "0  The Church of England's movement that inspired the Trinity Episcop...   \n",
       "1  Red, White & Crüe and this athlete both fight. The french fighter ...   \n",
       "2  The writer/director/actor from Glen or Glenda and Fernand Rivers s...   \n",
       "3      The film by Sandi Sissel was released before The End of Suburbia.   \n",
       "4  The actor who played captain hook in the live production with Tayl...   \n",
       "\n",
       "                                                          example_titles  \\\n",
       "0  [Samuel Rickards, Oxford Movement, Trinity Episcopal Church (Hough...   \n",
       "1                     [Bobby Stewart, Red, White &amp; Crüe, Mike Tyson]   \n",
       "2                              [Ed Wood, Glen or Glenda, Fernand Rivers]   \n",
       "3              [Chicken Ranch (film), Sandi Sissel, The End of Suburbia]   \n",
       "4                [Peter Pan Live!, Taylor Louderman, Christopher Walken]   \n",
       "\n",
       "  pred_titles top5_recall  \n",
       "0          []              \n",
       "1          []              \n",
       "2          []              \n",
       "3          []              \n",
       "4          []              "
      ]
     },
     "metadata": {},
     "output_type": "display_data"
    },
    {
     "data": {
      "text/html": [
       "\n",
       "                <div style='\n",
       "                    text-align: center;\n",
       "                    font-size: 16px;\n",
       "                    font-weight: bold;\n",
       "                    color: #555;\n",
       "                    margin: 10px 0;'>\n",
       "                    ... 95 more rows not displayed ...\n",
       "                </div>\n",
       "                "
      ],
      "text/plain": [
       "<IPython.core.display.HTML object>"
      ]
     },
     "metadata": {},
     "output_type": "display_data"
    },
    {
     "data": {
      "text/plain": [
       "0.0"
      ]
     },
     "execution_count": 24,
     "metadata": {},
     "output_type": "execute_result"
    }
   ],
   "source": [
    "def safe_react(claim: str):\n",
    "    try:\n",
    "        return react(claim=claim)\n",
    "    except Exception as e:\n",
    "        return dspy.Prediction(titles=[])\n",
    "\n",
    "evaluate(safe_react)"
   ]
  },
  {
   "cell_type": "code",
   "execution_count": null,
   "metadata": {},
   "outputs": [
    {
     "name": "stderr",
     "output_type": "stream",
     "text": [
      "2025/01/18 19:11:56 INFO dspy.teleprompt.mipro_optimizer_v2: \n",
      "RUNNING WITH THE FOLLOWING MEDIUM AUTO RUN SETTINGS:\n",
      "num_trials: 25\n",
      "minibatch: True\n",
      "num_candidates: 9\n",
      "valset size: 80\n",
      "\n"
     ]
    }
   ],
   "source": [
    "kwargs = dict(teacher_settings=dict(lm=gpt4o), prompt_model=gpt4o, max_errors=999)\n",
    "\n",
    "tp = dspy.MIPROv2(metric=top5_recall, auto=\"medium\", num_threads=16, **kwargs)\n",
    "optimized_react = tp.compile(react, trainset=trainset, max_bootstrapped_demos=3, max_labeled_demos=0)"
   ]
  },
  {
   "cell_type": "code",
   "execution_count": null,
   "metadata": {},
   "outputs": [],
   "source": []
  }
 ],
 "metadata": {
  "kernelspec": {
   "display_name": "ai312",
   "language": "python",
   "name": "python3"
  },
  "language_info": {
   "codemirror_mode": {
    "name": "ipython",
    "version": 3
   },
   "file_extension": ".py",
   "mimetype": "text/x-python",
   "name": "python",
   "nbconvert_exporter": "python",
   "pygments_lexer": "ipython3",
   "version": "3.12.8"
  }
 },
 "nbformat": 4,
 "nbformat_minor": 2
}
